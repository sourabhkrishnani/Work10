{
 "cells": [
  {
   "cell_type": "code",
   "execution_count": 2,
   "id": "bb0f5ef0-f8b0-4bc5-b0d0-4d1335ed170a",
   "metadata": {},
   "outputs": [],
   "source": [
    "#Q1"
   ]
  },
  {
   "cell_type": "markdown",
   "id": "8c6cd618-1190-472d-9378-0436f7f7a0c4",
   "metadata": {},
   "source": [
    "In Python, an exception is an event that occurs during the execution of a program that disrupts the normal flow of instructions. When an exceptional situation arises, Python raises an exception, which is a signal that something unexpected or erroneous has happened. Exceptions can occur due to various reasons, such as runtime errors, invalid input, or external factors like file I/O errors.\n",
    "\n",
    "Exceptions allow you to handle errors gracefully by providing a mechanism to catch and respond to them without abruptly crashing the program. You can use try-except blocks to catch and handle exceptions in Python.\n",
    "\n",
    "On the other hand, a syntax error is a type of error that occurs when you violate the grammatical rules of the Python language. Syntax errors are detected by the Python interpreter during the parsing phase before the code is executed. These errors indicate that your code doesn't conform to the language syntax, making it impossible to interpret correctly.\n",
    "\n",
    "Here's the difference between an exception and a syntax error:"
   ]
  },
  {
   "cell_type": "markdown",
   "id": "8fec5009-910b-4cd7-a73c-ef9252db548b",
   "metadata": {},
   "source": [
    "Cause:\n",
    "\n",
    "Exception: Caused by unexpected events or conditions during the program's execution, such as division by zero, accessing an index out of bounds, or trying to open a non-existent file.\n",
    "\n",
    "Syntax Error: Caused by violations of the language's syntax rules, such as missing or misplaced punctuation, incorrect indentation, or incorrect use of keywords.\n"
   ]
  },
  {
   "cell_type": "markdown",
   "id": "5258bc0b-d8ad-4501-b3c2-c27af3202574",
   "metadata": {},
   "source": [
    "Detection:\n",
    "\n",
    "Exception: Detected at runtime, when the specific situation causing the exception is encountered during program execution.\n",
    "\n",
    "Syntax Error: Detected by the Python interpreter during the parsing phase, before the program starts executing."
   ]
  },
  {
   "cell_type": "markdown",
   "id": "cac274a1-e5ae-485d-befb-d0b529fb643f",
   "metadata": {},
   "source": [
    "Handling:\n",
    "\n",
    "Exception: Can be caught and handled using try-except blocks to prevent the program from crashing and allowing for graceful error handling.\n",
    "\n",
    "Syntax Error: Needs to be corrected in the source code before the program is run, as it prevents the code from being interpreted correctly."
   ]
  },
  {
   "cell_type": "code",
   "execution_count": null,
   "id": "03d10dc9-3817-4326-8dca-d227f812b2f3",
   "metadata": {},
   "outputs": [],
   "source": [
    "#Q2"
   ]
  },
  {
   "cell_type": "markdown",
   "id": "8272ea85-cfe4-406f-b79a-41aed0b1cc0c",
   "metadata": {},
   "source": [
    "When an exception is not handled in Python, it propagates up the call stack until it reaches the highest level of the program, potentially causing the program to terminate abruptly. This can lead to unintended behavior and unexpected program crashes. Let's look at an example to illustrate this:"
   ]
  },
  {
   "cell_type": "code",
   "execution_count": 3,
   "id": "f9e7f74a-78c4-4bd4-9291-af725f21eaf8",
   "metadata": {},
   "outputs": [
    {
     "ename": "ZeroDivisionError",
     "evalue": "division by zero",
     "output_type": "error",
     "traceback": [
      "\u001b[0;31m---------------------------------------------------------------------------\u001b[0m",
      "\u001b[0;31mZeroDivisionError\u001b[0m                         Traceback (most recent call last)",
      "Cell \u001b[0;32mIn[3], line 5\u001b[0m\n\u001b[1;32m      2\u001b[0m     \u001b[38;5;28;01mreturn\u001b[39;00m a \u001b[38;5;241m/\u001b[39m b\n\u001b[1;32m      4\u001b[0m \u001b[38;5;28;01mtry\u001b[39;00m:\n\u001b[0;32m----> 5\u001b[0m     result \u001b[38;5;241m=\u001b[39m \u001b[43mdivide\u001b[49m\u001b[43m(\u001b[49m\u001b[38;5;241;43m5\u001b[39;49m\u001b[43m,\u001b[49m\u001b[43m \u001b[49m\u001b[38;5;241;43m0\u001b[39;49m\u001b[43m)\u001b[49m  \n\u001b[1;32m      6\u001b[0m     \u001b[38;5;28mprint\u001b[39m(\u001b[38;5;124m\"\u001b[39m\u001b[38;5;124mResult:\u001b[39m\u001b[38;5;124m\"\u001b[39m, result)\n\u001b[1;32m      7\u001b[0m \u001b[38;5;28;01mexcept\u001b[39;00m \u001b[38;5;167;01mValueError\u001b[39;00m:\n",
      "Cell \u001b[0;32mIn[3], line 2\u001b[0m, in \u001b[0;36mdivide\u001b[0;34m(a, b)\u001b[0m\n\u001b[1;32m      1\u001b[0m \u001b[38;5;28;01mdef\u001b[39;00m \u001b[38;5;21mdivide\u001b[39m(a, b):\n\u001b[0;32m----> 2\u001b[0m     \u001b[38;5;28;01mreturn\u001b[39;00m \u001b[43ma\u001b[49m\u001b[43m \u001b[49m\u001b[38;5;241;43m/\u001b[39;49m\u001b[43m \u001b[49m\u001b[43mb\u001b[49m\n",
      "\u001b[0;31mZeroDivisionError\u001b[0m: division by zero"
     ]
    }
   ],
   "source": [
    "def divide(a, b):\n",
    "    return a / b\n",
    "\n",
    "try:\n",
    "    result = divide(5, 0)  \n",
    "    print(\"Result:\", result)\n",
    "except ValueError:\n",
    "    print(\"Caught a ValueError\")\n"
   ]
  },
  {
   "cell_type": "markdown",
   "id": "c1aa3a43-34f0-4a46-8196-b45143415b3a",
   "metadata": {},
   "source": [
    "In this example, the divide function attempts to perform division by zero, which is an illegal operation and raises a ZeroDivisionError exception. However, the exception is not caught by the except ValueError block, as it's not a ValueError but a ZeroDivisionError."
   ]
  },
  {
   "cell_type": "markdown",
   "id": "6c996430-a2cc-40f6-a5e2-337801541882",
   "metadata": {},
   "source": [
    "As you can see, the program encountered an unhandled exception (ZeroDivisionError) in the divide function. The traceback indicates the exact location where the exception occurred. If the exception is not caught and handled, the program will terminate at this point, and any subsequent code or tasks will not be executed.\n",
    "\n",
    "To prevent this, you should handle exceptions appropriately using try-except blocks. Here's the modified example with proper exception handling:"
   ]
  },
  {
   "cell_type": "code",
   "execution_count": 10,
   "id": "9008143a-7cd4-4925-8f69-0f4840c6be4f",
   "metadata": {},
   "outputs": [
    {
     "name": "stdout",
     "output_type": "stream",
     "text": [
      "Error: Division by zero\n"
     ]
    }
   ],
   "source": [
    "def divide(a, b):\n",
    "    try:\n",
    "        return a / b\n",
    "    except ZeroDivisionError:\n",
    "        print(\"Error: Division by zero\")\n",
    "        return None\n",
    "\n",
    "result = divide(5, 0)\n",
    "if result is not None:\n",
    "    print(\"Result:\", result)\n"
   ]
  },
  {
   "cell_type": "markdown",
   "id": "a3d13c27-3cbc-4010-9285-9877cccbbe64",
   "metadata": {},
   "source": [
    "In this version, the divide function catches the ZeroDivisionError and handles it by printing an error message. The main code then checks if the result is not None before printing it, preventing the program from crashing even if an exception occurs.\n",
    "\n",
    "Remember that handling exceptions appropriately helps your program remain robust and prevents it from crashing unexpectedly due to unforeseen errors.\n"
   ]
  },
  {
   "cell_type": "code",
   "execution_count": null,
   "id": "f5034e76-1de9-43c0-a2da-a7044e41ddff",
   "metadata": {},
   "outputs": [],
   "source": [
    "#Q3"
   ]
  },
  {
   "cell_type": "markdown",
   "id": "bd1eb224-adeb-4228-a04c-8f465c6998ed",
   "metadata": {},
   "source": [
    "In Python, you can use the try and except statements to catch and handle exceptions. The try block contains the code that you want to monitor for exceptions, while the except block contains the code that should be executed if an exception of a specific type is raised within the try block. Here's the basic syntax:"
   ]
  },
  {
   "cell_type": "raw",
   "id": "70dbdb5b-9c74-4a61-9cef-91631371f640",
   "metadata": {},
   "source": [
    "try:\n",
    "    # Code that might raise an exception\n",
    "except ExceptionType:\n",
    "    # Code to handle the exception\n"
   ]
  },
  {
   "cell_type": "markdown",
   "id": "5ee5881e-53da-4638-a450-2adc7cdbee63",
   "metadata": {},
   "source": [
    "Let's go through an example to illustrate how to catch and handle exceptions using these statements:"
   ]
  },
  {
   "cell_type": "code",
   "execution_count": 19,
   "id": "563722e6-97d6-44f1-b562-2a2fc06a55a3",
   "metadata": {},
   "outputs": [
    {
     "name": "stdout",
     "output_type": "stream",
     "text": [
      "Result: 5.0\n"
     ]
    }
   ],
   "source": [
    "def divide(a, b):\n",
    "    try:\n",
    "        result = a / b\n",
    "        return result\n",
    "    except ZeroDivisionError:\n",
    "        print(\"Error: Division by zero\")\n",
    "        return None\n",
    "\n",
    "numerator = 10\n",
    "denominator = 2\n",
    "\n",
    "result = divide(numerator, denominator)\n",
    "if result is not None:\n",
    "    print(\"Result:\", result)\n"
   ]
  },
  {
   "cell_type": "code",
   "execution_count": null,
   "id": "c5287aa4-1d40-4dad-b897-a51430a2cb83",
   "metadata": {},
   "outputs": [],
   "source": [
    "#Q4"
   ]
  },
  {
   "cell_type": "markdown",
   "id": "8872bc8e-0be9-4378-b674-3c4aad9f456d",
   "metadata": {},
   "source": [
    "The try block is used to enclose the code that might raise an exception, while the else block contains code that is executed only if no exceptions are raised in the try block."
   ]
  },
  {
   "cell_type": "code",
   "execution_count": 20,
   "id": "12915605-d4b1-45b0-bf10-d3fa0cbf6ceb",
   "metadata": {},
   "outputs": [
    {
     "name": "stdin",
     "output_type": "stream",
     "text": [
      "Enter the numerator:  5\n",
      "Enter the denominator:  2\n"
     ]
    },
    {
     "name": "stdout",
     "output_type": "stream",
     "text": [
      "Result: 2.5\n"
     ]
    }
   ],
   "source": [
    "try:\n",
    "    numerator = int(input(\"Enter the numerator: \"))\n",
    "    denominator = int(input(\"Enter the denominator: \"))\n",
    "    result = numerator / denominator\n",
    "except ZeroDivisionError:\n",
    "    print(\"Error: Division by zero\")\n",
    "else:\n",
    "    print(\"Result:\", result)\n"
   ]
  },
  {
   "cell_type": "markdown",
   "id": "ec2ed2d7-7b02-4820-a9ea-4f9992c4c337",
   "metadata": {},
   "source": [
    "In this example, the program attempts to divide two numbers provided by the user. If the user enters a denominator of 0, a ZeroDivisionError is caught. Otherwise, the division is performed, and the result is displayed using the else block."
   ]
  },
  {
   "cell_type": "markdown",
   "id": "1c24382c-3078-4351-b844-d8809a0cfb83",
   "metadata": {},
   "source": [
    "2.The finally block contains code that is executed regardless of whether an exception occurred or not. It's typically used to ensure that certain cleanup or finalization tasks are performed, such as closing files or releasing resources."
   ]
  },
  {
   "cell_type": "code",
   "execution_count": 21,
   "id": "3138b1a5-db23-4c73-9aa1-854c6ff680ea",
   "metadata": {},
   "outputs": [
    {
     "name": "stdout",
     "output_type": "stream",
     "text": [
      "File not found.\n"
     ]
    }
   ],
   "source": [
    "file = None\n",
    "try:\n",
    "    file = open(\"example.txt\", \"r\")\n",
    "    content = file.read()\n",
    "except FileNotFoundError:\n",
    "    print(\"File not found.\")\n",
    "else:\n",
    "    print(\"File content:\", content)\n",
    "finally:\n",
    "    if file:\n",
    "        file.close()\n"
   ]
  },
  {
   "cell_type": "markdown",
   "id": "f79d2f34-fc06-40b9-b794-66fb1179026b",
   "metadata": {},
   "source": [
    "In this example, the program tries to open and read a file. If the file is found and read successfully, its content is displayed. The finally block ensures that the file is closed, whether an exception occurred or not."
   ]
  },
  {
   "cell_type": "markdown",
   "id": "90fe2fe2-0a57-4a99-be52-2f9d7593e010",
   "metadata": {},
   "source": [
    "The raise statement is used to explicitly raise an exception in your code. You can use it to create your own custom exceptions or to re-raise exceptions caught in an except block."
   ]
  },
  {
   "cell_type": "code",
   "execution_count": 22,
   "id": "2d6067fe-3e5a-412b-a383-723eea60d891",
   "metadata": {},
   "outputs": [
    {
     "name": "stdin",
     "output_type": "stream",
     "text": [
      "Enter your age:  20\n"
     ]
    },
    {
     "name": "stdout",
     "output_type": "stream",
     "text": [
      "Access granted\n"
     ]
    }
   ],
   "source": [
    "def check_age(age):\n",
    "    if age < 0:\n",
    "        raise ValueError(\"Age cannot be negative\")\n",
    "    elif age < 18:\n",
    "        raise ValueError(\"You must be at least 18 years old\")\n",
    "\n",
    "try:\n",
    "    user_age = int(input(\"Enter your age: \"))\n",
    "    check_age(user_age)\n",
    "    print(\"Access granted\")\n",
    "except ValueError as e:\n",
    "    print(\"Error:\", e)\n"
   ]
  },
  {
   "cell_type": "markdown",
   "id": "74a6aa8a-0ed5-4d3e-97bc-18ebed8cfaef",
   "metadata": {},
   "source": [
    "In this example, the check_age function is defined to validate user age. If the age is negative or below 18, a ValueError is raised with a custom error message. The main code attempts to get the user's age and then calls check_age to validate it. If an exception is raised by check_age, it is caught and the corresponding error message is displayed."
   ]
  },
  {
   "cell_type": "code",
   "execution_count": null,
   "id": "e5f278fd-3065-48e0-a7a6-7045921fd9d0",
   "metadata": {},
   "outputs": [],
   "source": [
    "#Q5"
   ]
  },
  {
   "cell_type": "markdown",
   "id": "1392c11e-bbe6-4223-b83b-1390866c8b67",
   "metadata": {},
   "source": [
    "In Python, exceptions are used to handle errors and unexpected situations that may arise during the execution of a program. Python provides a variety of built-in exception classes that cover common error scenarios, such as TypeError, ValueError, and FileNotFoundError. However, there might be cases where these built-in exceptions are not sufficient to accurately represent the specific errors or exceptional situations in your program. This is where custom exceptions come into play."
   ]
  },
  {
   "cell_type": "markdown",
   "id": "c24cdaeb-64ef-42e0-a3a6-a0f1e043816e",
   "metadata": {},
   "source": [
    "Custom exceptions, also known as user-defined exceptions, allow you to define your own exception classes to handle specific types of errors or situations that are relevant to your application. This can make your code more organized, readable, and maintainable, as you can provide more meaningful error messages and handle exceptional cases more precisely."
   ]
  },
  {
   "cell_type": "code",
   "execution_count": 1,
   "id": "9bd1d8ec-59ab-4dc1-9492-75dcdb745a29",
   "metadata": {},
   "outputs": [
    {
     "name": "stdout",
     "output_type": "stream",
     "text": [
      "Insufficient funds. Available balance: 1000, requested amount: 1500\n"
     ]
    }
   ],
   "source": [
    "class InsufficientFundsError(Exception):\n",
    "    def __init__(self, balance, amount):\n",
    "        self.balance = balance\n",
    "        self.amount = amount\n",
    "        self.message = f\"Insufficient funds. Available balance: {balance}, requested amount: {amount}\"\n",
    "\n",
    "def withdraw_from_account(balance, amount):\n",
    "    if amount > balance:\n",
    "        raise InsufficientFundsError(balance, amount)\n",
    "    else:\n",
    "        # Perform the withdrawal logic\n",
    "        print(\"Withdrawal successful!\")\n",
    "\n",
    "try:\n",
    "    account_balance = 1000\n",
    "    withdrawal_amount = 1500\n",
    "    withdraw_from_account(account_balance, withdrawal_amount)\n",
    "except InsufficientFundsError as e:\n",
    "    print(e.message)\n"
   ]
  },
  {
   "cell_type": "code",
   "execution_count": null,
   "id": "2fc4c41d-bddb-4de4-8a3a-90bd68f104c2",
   "metadata": {},
   "outputs": [],
   "source": [
    "#Q6"
   ]
  },
  {
   "cell_type": "code",
   "execution_count": 2,
   "id": "59d9daa7-a332-4f6f-b7fd-3fc4847ece57",
   "metadata": {},
   "outputs": [
    {
     "name": "stdin",
     "output_type": "stream",
     "text": [
      "Enter a positive integer:  5\n"
     ]
    },
    {
     "name": "stdout",
     "output_type": "stream",
     "text": [
      "Input processing successful!\n"
     ]
    }
   ],
   "source": [
    "class InvalidInputError(Exception):\n",
    "    def __init__(self, input_value):\n",
    "        self.input_value = input_value\n",
    "        self.message = f\"Invalid input: {input_value}. Input must be a positive integer.\"\n",
    "\n",
    "def process_input(value):\n",
    "    if not isinstance(value, int) or value <= 0:\n",
    "        raise InvalidInputError(value)\n",
    "    else:\n",
    "        print(\"Input processing successful!\")\n",
    "\n",
    "try:\n",
    "    user_input = input(\"Enter a positive integer: \")\n",
    "    user_input = int(user_input)  # Convert input to integer\n",
    "    process_input(user_input)\n",
    "except InvalidInputError as e:\n",
    "    print(e.message)\n",
    "except ValueError:\n",
    "    print(\"Invalid input. Please enter a valid positive integer.\")\n"
   ]
  },
  {
   "cell_type": "markdown",
   "id": "2824e448-7ecd-4d1e-b9cd-d2a2d7b84662",
   "metadata": {},
   "source": [
    "In this example, we have defined a custom exception class InvalidInputError, which is used to handle cases where the user provides input that is not a positive integer. The __init__ method of the custom exception class takes the input value as an argument and constructs a custom error message."
   ]
  },
  {
   "cell_type": "markdown",
   "id": "e9ce3861-6703-41dd-8e4e-731460f0a992",
   "metadata": {},
   "source": [
    "The process_input function checks if the input is a positive integer and raises the InvalidInputError if the condition is not met.\n",
    "\n",
    "In the try-except block, we catch the InvalidInputError exception and print the custom error message. We also catch the ValueError exception that might occur if the user's input cannot be converted to an integer."
   ]
  },
  {
   "cell_type": "code",
   "execution_count": null,
   "id": "b0bca2df-9b70-4c43-9058-a1d131dfb709",
   "metadata": {},
   "outputs": [],
   "source": []
  }
 ],
 "metadata": {
  "kernelspec": {
   "display_name": "Python 3 (ipykernel)",
   "language": "python",
   "name": "python3"
  },
  "language_info": {
   "codemirror_mode": {
    "name": "ipython",
    "version": 3
   },
   "file_extension": ".py",
   "mimetype": "text/x-python",
   "name": "python",
   "nbconvert_exporter": "python",
   "pygments_lexer": "ipython3",
   "version": "3.10.8"
  }
 },
 "nbformat": 4,
 "nbformat_minor": 5
}
